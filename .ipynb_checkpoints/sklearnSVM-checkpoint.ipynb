{
 "cells": [
  {
   "cell_type": "code",
   "execution_count": 5,
   "metadata": {},
   "outputs": [
    {
     "name": "stdout",
     "output_type": "stream",
     "text": [
      "[0 0 0 0 0 0 0 0 0 0 0 0 0 0 0 0 0 0 0 0 0 0 0 0 0 0 0 0 0 0 0 0 0 0 0 0 0\n",
      " 0 0 0 0 0 0 0 0 0 0 0 0 0 1 1 1 1 1 1 1 1 1 1 1 1 1 1 1 1 1 1 1 1 1 1 1 1\n",
      " 1 1 1 1 1 1 1 1 1 1 1 1 1 1 1 1 1 1 1 1 1 1 1 1 1 1 2 2 2 2 2 2 2 2 2 2 2\n",
      " 2 2 2 2 2 2 2 2 2 2 2 2 2 2 2 2 2 2 2 2 2 2 2 2 2 2 2 2 2 2 2 2 2 2 2 2 2\n",
      " 2 2]\n",
      "[ True  True  True  True  True]\n",
      "[2]\n"
     ]
    }
   ],
   "source": [
    "# 导入svm和数据集\n",
    "from sklearn import svm, datasets\n",
    "import numpy as np\n",
    "#调用svc\n",
    "clf = svm.SVC()\n",
    "\n",
    "#载入鸢尾花模型\n",
    "iris = datasets.load_iris()\n",
    "X = iris.data\n",
    "Y = iris.target\n",
    "print (Y)\n",
    "\n",
    "#开始进行训练\n",
    "clf.fit(X, Y)\n",
    "\n",
    "#predict()进行简单的预测\n",
    "pre_y = clf.predict(X[5:10])\n",
    "# 对比两个矩阵是否相等\n",
    "print (pre_y == Y[5:10])\n",
    "\n",
    "#对test进行预测\n",
    "test = np.array([[5.1, 2.9, 1.8, 3.6]])\n",
    "test_y = clf.predict(test)\n",
    "print (test_y)\n",
    "\n"
   ]
  },
  {
   "cell_type": "code",
   "execution_count": 17,
   "metadata": {},
   "outputs": [
    {
     "name": "stdout",
     "output_type": "stream",
     "text": [
      "Automatically created module for IPython interactive environment\n",
      "[ True  True  True  True  True]\n",
      "yy= [-20.04314604 -19.31185381 -18.58056159 -17.84926936 -17.11797714\n",
      " -16.38668492 -15.65539269 -14.92410047 -14.19280824 -13.46151602\n",
      " -12.7302238  -11.99893157 -11.26763935 -10.53634713  -9.8050549\n",
      "  -9.07376268  -8.34247045  -7.61117823  -6.87988601  -6.14859378\n",
      "  -5.41730156  -4.68600933  -3.95471711  -3.22342489  -2.49213266\n",
      "  -1.76084044  -1.02954821  -0.29825599   0.43303623   1.16432846\n",
      "   1.89562068   2.6269129    3.35820513   4.08949735   4.82078958\n",
      "   5.5520818    6.28337402   7.01466625   7.74595847   8.4772507\n",
      "   9.20854292   9.93983514  10.67112737  11.40241959  12.13371182\n",
      "  12.86500404  13.59629626  14.32758849  15.05888071  15.79017294]\n",
      "support_vectors_= [[ 4.658191  3.507396]\n",
      " [ 3.457096 -0.082216]\n",
      " [ 6.080573  0.418886]]\n"
     ]
    },
    {
     "data": {
      "image/png": "[encoded data removed]",
      "text/plain": [
       "<matplotlib.figure.Figure at 0x2776f852fd0>"
      ]
     },
     "metadata": {},
     "output_type": "display_data"
    }
   ],
   "source": [
    "import matplotlib.pyplot as plt\n",
    "import numpy as np\n",
    "from sklearn import svm\n",
    "\n",
    "print (__doc__)\n",
    "\n",
    "\n",
    "def loadDataSet(fileName):\n",
    "    \"\"\"\n",
    "    对文件进行逐行解析,从而得到第行的类标签和整个数据矩阵\n",
    "    \"\"\"\n",
    "    dataMat = []\n",
    "    labelMat = []\n",
    "    with open(fileName, 'r') as fp_r:\n",
    "        for line in fp_r.readlines():\n",
    "            lineArr = line.strip().split('\\t')\n",
    "            dataMat.append([float(lineArr[0]), float(lineArr[1])])\n",
    "            labelMat.append(float(lineArr[2]))\n",
    "        return dataMat, labelMat\n",
    "\n",
    "X, Y = loadDataSet(r'C:\\Users\\wd\\Documents\\GitHub\\MachineLearningStudy\\data\\SVM\\testSet.txt')\n",
    "X = np.mat(X)\n",
    "\n",
    "#拟合一个svm模型\n",
    "clf = svm.SVC(kernel=\"linear\")\n",
    "clf.fit(X, Y)\n",
    "pre_Y = clf.predict(X[5:10])\n",
    "print (pre_Y == Y[5:10])\n",
    "\n",
    "# 下面全部为绘制一个平面图\n",
    "# 获得分隔超平面\n",
    "w = clf.coef_[0]\n",
    "# 斜率\n",
    "a = -w[0]/w[1]\n",
    "# 从5到5 顺序间隔采样50个样本\n",
    "xx = np.linspace(-2, 10)\n",
    "# 二维的直线方程\n",
    "yy = a*xx - (clf.intercept_[0])/w[1]\n",
    "print (\"yy=\", yy)\n",
    "\n",
    "#通过支持向量绘制分隔超平面\n",
    "print (\"support_vectors_=\", clf.support_vectors_)\n",
    "b = clf.support_vectors_[0]\n",
    "yy_down = a*xx + (b[1] - a * b[0])\n",
    "b = clf.support_vectors_[-1]\n",
    "yy_up = a *xx + (b[1] - a*b[0])\n",
    "\n",
    "#plot the line, the points, and the nearest vectors to the plane\n",
    "plt.plot(xx, yy, 'k-')\n",
    "plt.plot(xx, yy_down, 'k--')\n",
    "plt.plot(xx, yy_up,   'k--')\n",
    "\n",
    "\n",
    "plt.scatter(clf.support_vectors_[:, 0], clf.support_vectors_[:, 1], s=80, facecolors='none')\n",
    "plt.scatter(X[:, 0].flat, X[:, 1].flat, c=Y, cmap=plt.cm.Paired)\n",
    "\n",
    "plt.axis('tight')\n",
    "plt.show()"
   ]
  }
 ],
 "metadata": {
  "kernelspec": {
   "display_name": "Python [conda env:Anaconda3]",
   "language": "python",
   "name": "conda-env-Anaconda3-py"
  },
  "language_info": {
   "codemirror_mode": {
    "name": "ipython",
    "version": 3
   },
   "file_extension": ".py",
   "mimetype": "text/x-python",
   "name": "python",
   "nbconvert_exporter": "python",
   "pygments_lexer": "ipython3",
   "version": "3.6.4"
  }
 },
 "nbformat": 4,
 "nbformat_minor": 2
}
