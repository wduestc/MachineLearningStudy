{
 "cells": [
  {
   "cell_type": "code",
   "execution_count": 2,
   "metadata": {},
   "outputs": [
    {
     "name": "stdout",
     "output_type": "stream",
     "text": [
      "[114  62  33 107   7 100  40  86  76  71 134  51  73  54  63  37  78  90\n",
      "  45  16 121  66  24   8 126  22  44  97  93  26 137  84  27 127 132  59\n",
      "  18  83  61  92 112   2 141  43  10  60 116 144 119 108  69 135  56  80\n",
      " 123 133 106 146  50 147  85  30 101  94  64  89  91 125  48  13 111  95\n",
      "  20  15  52   3 149  98   6  68 109  96  12 102 120 104 128  46  11 110\n",
      " 124  41 148   1 113 139  42   4 129  17  38   5  53 143 105   0  34  28\n",
      "  55  75  35  23  74  31 118  57 131  65  32 138  14 122  19  29 130  49\n",
      " 136  99  82  79 115 145  72  77  25  81 140 142  39  58  88  70  87  36\n",
      "  21   9 103  67 117  47]\n"
     ]
    }
   ],
   "source": [
    "# coding:utf-8\n",
    "\n",
    "# 导入内置的数据\n",
    "from sklearn import datasets\n",
    "# 导入knn模块\n",
    "from sklearn.neighbors import KNeighborsClassifier\n",
    "\n",
    "import numpy as np\n",
    "np.random.seed(0)\n",
    "\n",
    "iris = datasets.load_iris()\n",
    "iris_x = iris.data\n",
    "iris_y = iris.target\n",
    "indices = np.random.permutation(len(iris_x))\n",
    "iris_x_train = iris_x[indices[:-10]]\n",
    "iris_y_train = iris_y[indices[:-10]]\n",
    "iris_x_test = iris_x[indices[-10:]]\n",
    "iris_y_test = iris_y[indices[-10:]]\n",
    "\n",
    "\n",
    "knn = KNeighborsClassifier()\n",
    "knn.fit(iris_x_train, iris_y_train)\n",
    "iris_y_predict = knn.predict(iris_x_test)\n"
   ]
  },
  {
   "cell_type": "code",
   "execution_count": 14,
   "metadata": {},
   "outputs": [
    {
     "name": "stdout",
     "output_type": "stream",
     "text": [
      "[[1 2 3]\n",
      " [1 1 1]\n",
      " [2 2 2]\n",
      " [3 3 3]\n",
      " [1 1 2]\n",
      " [2 2 1]]\n",
      "['action']\n"
     ]
    }
   ],
   "source": [
    "# coding:utf-8\n",
    "# 使用鸢尾花数据集进行测试\n",
    "from sklearn import neighbors\n",
    "from sklearn.datasets import load_iris\n",
    "import sklearn\n",
    "import numpy as np\n",
    "\n",
    "# 创建一个测试数据\n",
    "def createDataSet():\n",
    "    #data = { [1, 2, 3], [1, 1, 1], [2, 2, 2], [3, 3, 3]}\n",
    "    data = np.array([[1, 2, 3], [1, 1, 1], [2, 2, 2], [3, 3, 3], [1, 1, 2], [2, 2, 1]])\n",
    "    labels = ['action', 'love', 'action', 'action', 'love', 'action']\n",
    "    return data, labels\n",
    "\n",
    "\n",
    "# 查看iris数据集\n",
    "iris = load_iris()\n",
    "#print (iris)\n",
    "\n",
    "#样本太少了\n",
    "# 设置knn的值\n",
    "# 默认是5\n",
    "knn = neighbors.KNeighborsClassifier(n_neighbors=3)\n",
    "\n",
    "# 训练数据集\n",
    "#\n",
    "print (testdata)\n",
    "\n",
    "# 参数都是矩阵\n",
    "testdata, testlabels = createDataSet()\n",
    "knn.fit(testdata[:3], testlabels[:3])\n",
    "#knn.fit(iris.data, iris.target)\n",
    "# 预测\n",
    "predict = knn.predict([[1, 2, 3]])\n",
    "print (predict)\n",
    "#print (iris.target_names[predict])"
   ]
  },
  {
   "cell_type": "code",
   "execution_count": null,
   "metadata": {},
   "outputs": [],
   "source": []
  }
 ],
 "metadata": {
  "kernelspec": {
   "display_name": "Python [conda env:Anaconda3]",
   "language": "python",
   "name": "conda-env-Anaconda3-py"
  },
  "language_info": {
   "codemirror_mode": {
    "name": "ipython",
    "version": 3
   },
   "file_extension": ".py",
   "mimetype": "text/x-python",
   "name": "python",
   "nbconvert_exporter": "python",
   "pygments_lexer": "ipython3",
   "version": "3.6.4"
  }
 },
 "nbformat": 4,
 "nbformat_minor": 2
}
