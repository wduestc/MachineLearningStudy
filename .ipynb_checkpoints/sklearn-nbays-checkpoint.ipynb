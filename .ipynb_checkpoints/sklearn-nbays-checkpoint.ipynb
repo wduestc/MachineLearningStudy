{
 "cells": [
  {
   "cell_type": "code",
   "execution_count": 5,
   "metadata": {},
   "outputs": [
    {
     "name": "stdout",
     "output_type": "stream",
     "text": [
      "[1]\n"
     ]
    }
   ],
   "source": [
    "# 高斯朴素贝叶斯\n",
    "import numpy as np\n",
    "from sklearn.naive_bayes import GaussianNB\n",
    "\n",
    "X = np.array(([-1, -1], [-2, -1], [-3, -2], [1, 1], [2, 1], [3, 2]))\n",
    "Y = np.array([1, 1, 1, 2, 2, 2])\n",
    "clf = GaussianNB()\n",
    "clf.fit(X, Y)\n",
    "print (clf.predict([[-0.8, -1]]))"
   ]
  },
  {
   "cell_type": "code",
   "execution_count": 11,
   "metadata": {},
   "outputs": [
    {
     "name": "stdout",
     "output_type": "stream",
     "text": [
      "[[3 0 4 1 0 1 3 4 0 0]\n",
      " [4 3 0 1 4 3 4 3 0 0]\n",
      " [2 1 2 4 2 4 0 3 0 3]\n",
      " [4 2 4 0 2 1 4 2 2 0]\n",
      " [1 4 0 0 0 1 3 1 3 0]\n",
      " [0 3 1 4 4 3 0 4 4 3]]\n",
      "--------------\n",
      "[[2 1 2 4 2 4 0 3 0 3]]\n",
      "[3]\n"
     ]
    }
   ],
   "source": [
    "# 多项朴素贝叶斯\n",
    "import numpy as np\n",
    "from sklearn.naive_bayes import MultinomialNB\n",
    "\n",
    "X = np.random.randint(5, size=(6, 10))\n",
    "print (X)\n",
    "Y = np.array([1, 2, 3, 4, 5, 6])\n",
    "clf = MultinomialNB()\n",
    "clf.fit(X, Y)\n",
    "print (\"--------------\")\n",
    "print (X[2:3])\n",
    "print (clf.predict(X[2:3]))\n",
    "#print (clf.predict([2, 3]))"
   ]
  },
  {
   "cell_type": "code",
   "execution_count": 12,
   "metadata": {},
   "outputs": [
    {
     "name": "stdout",
     "output_type": "stream",
     "text": [
      "[3]\n"
     ]
    }
   ],
   "source": [
    "# 伯努利朴素贝叶斯\n",
    "import numpy as np\n",
    "from sklearn.naive_bayes import BernoulliNB\n",
    "\n",
    "X = np.random.randint(2, size=(6, 100))\n",
    "Y = np.array([1, 2, 3, 4, 4, 5])\n",
    "clf = BernoulliNB()\n",
    "clf.fit(X, Y)\n",
    "print (clf.predict(X[2:3]))"
   ]
  }
 ],
 "metadata": {
  "kernelspec": {
   "display_name": "Python [conda env:Anaconda3]",
   "language": "python",
   "name": "conda-env-Anaconda3-py"
  },
  "language_info": {
   "codemirror_mode": {
    "name": "ipython",
    "version": 3
   },
   "file_extension": ".py",
   "mimetype": "text/x-python",
   "name": "python",
   "nbconvert_exporter": "python",
   "pygments_lexer": "ipython3",
   "version": "3.6.4"
  }
 },
 "nbformat": 4,
 "nbformat_minor": 2
}
