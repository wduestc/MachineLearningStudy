{
 "cells": [
  {
   "cell_type": "code",
   "execution_count": 7,
   "metadata": {},
   "outputs": [
    {
     "name": "stdout",
     "output_type": "stream",
     "text": [
      "[[0. 0. 1. 1. 0. 0. 1. 0. 1.]\n",
      " [0. 0. 1. 1. 0. 0. 1. 1. 0.]\n",
      " [0. 0. 1. 0. 1. 0. 1. 0. 1.]\n",
      " [0. 0. 1. 0. 1. 0. 1. 1. 0.]\n",
      " [0. 0. 1. 1. 0. 1. 0. 0. 1.]\n",
      " [0. 0. 1. 1. 0. 1. 0. 1. 0.]\n",
      " [0. 0. 1. 0. 1. 1. 0. 0. 1.]\n",
      " [0. 0. 1. 0. 1. 1. 0. 1. 0.]\n",
      " [1. 0. 0. 1. 0. 0. 1. 0. 1.]\n",
      " [1. 0. 0. 1. 0. 0. 1. 1. 0.]\n",
      " [1. 0. 0. 0. 1. 0. 1. 0. 1.]\n",
      " [1. 0. 0. 0. 1. 0. 1. 1. 0.]\n",
      " [1. 0. 0. 1. 0. 1. 0. 0. 1.]\n",
      " [1. 0. 0. 1. 0. 1. 0. 1. 0.]\n",
      " [1. 0. 0. 0. 1. 1. 0. 0. 1.]\n",
      " [1. 0. 0. 0. 1. 1. 0. 1. 0.]\n",
      " [0. 1. 0. 1. 0. 0. 1. 0. 1.]\n",
      " [0. 1. 0. 1. 0. 0. 1. 1. 0.]\n",
      " [0. 1. 0. 0. 1. 0. 1. 0. 1.]\n",
      " [0. 1. 0. 0. 1. 0. 1. 1. 0.]\n",
      " [0. 1. 0. 1. 0. 1. 0. 0. 1.]\n",
      " [0. 1. 0. 1. 0. 1. 0. 1. 0.]\n",
      " [0. 1. 0. 0. 1. 1. 0. 0. 1.]\n",
      " [0. 1. 0. 0. 1. 1. 0. 1. 0.]]\n",
      "             precision    recall  f1-score   support\n",
      "\n",
      "        0.0       1.00      1.00      1.00        15\n",
      "        1.0       1.00      1.00      1.00         9\n",
      "\n",
      "avg / total       1.00      1.00      1.00        24\n",
      "\n"
     ]
    }
   ],
   "source": [
    "from sklearn.feature_extraction import DictVectorizer\n",
    "from sklearn.tree import DecisionTreeClassifier\n",
    "import numpy as np\n",
    "\n",
    "data = []\n",
    "labels = []\n",
    "\n",
    "with open(r\"C:/Users/wd/Documents/GitHub/MachineLearningStudy/data/lenses.txt\") as ifile:\n",
    "    for line in ifile:\n",
    "        rowDict = {}\n",
    "        tokens = line.strip().split('\\t')\n",
    "        rowDict['age'] = tokens[0]\n",
    "        rowDict['prescript'] = tokens[1]\n",
    "        rowDict['astigmatic'] = tokens[2]\n",
    "        rowDict['tearRate'] = tokens[3]\n",
    "        data.append(rowDict)\n",
    "        labels.append(tokens[-1])\n",
    "\n",
    "        \n",
    "# 对应创建数据\n",
    "# 一般来说 训练完成后 生成训练样本\n",
    "x = np.array(data)\n",
    "labels = np.array(labels)\n",
    "y = np.zeros(labels.shape)\n",
    "y[labels == 'hard'] = 1\n",
    "y[labels == 'soft'] = 1\n",
    "vec = DictVectorizer()\n",
    "dx = vec.fit_transform(x).toarray()\n",
    "print (dx)\n",
    "\n",
    "# 调用sklearn的决策树 使用默认的参数 即CART\n",
    "clf = DecisionTreeClassifier()\n",
    "clf.fit(dx, y)\n",
    "\n",
    "# 查看预测结果\n",
    "from sklearn.metrics import classification_report\n",
    "predictions = clf.predict(dx)\n",
    "print (classification_report(y, predictions))\n",
    "\n",
    "# 最后生成决策树\n",
    "from sklearn import tree\n",
    "tree.export_graphviz(clf, out_file='tree.dot')\n",
    "\n"
   ]
  }
 ],
 "metadata": {
  "kernelspec": {
   "display_name": "Python [conda env:Anaconda3]",
   "language": "python",
   "name": "conda-env-Anaconda3-py"
  },
  "language_info": {
   "codemirror_mode": {
    "name": "ipython",
    "version": 3
   },
   "file_extension": ".py",
   "mimetype": "text/x-python",
   "name": "python",
   "nbconvert_exporter": "python",
   "pygments_lexer": "ipython3",
   "version": "3.6.4"
  }
 },
 "nbformat": 4,
 "nbformat_minor": 2
}
